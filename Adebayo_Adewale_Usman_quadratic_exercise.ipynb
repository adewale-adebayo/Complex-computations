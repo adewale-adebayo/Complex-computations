{
 "cells": [
  {
   "cell_type": "markdown",
   "metadata": {},
   "source": [
    "## Solve a quadratic equation, $x^2 + b x + c = 0$."
   ]
  },
  {
   "cell_type": "code",
   "execution_count": 8,
   "metadata": {
    "scrolled": true
   },
   "outputs": [
    {
     "data": {
      "text/plain": [
       "array([ -1.00582838e-07,  -1.00000000e+07])"
      ]
     },
     "execution_count": 8,
     "metadata": {},
     "output_type": "execute_result"
    }
   ],
   "source": [
    "import numpy as np\n",
    "\n",
    "\n",
    "def solve_quad(b, c):\n",
    "    \"\"\"Solve a quadratic equation, x**2 + bx + c = 0.\n",
    "    \n",
    "    Parameters\n",
    "    ----------\n",
    "    b, c : float\n",
    "       Coefficients\n",
    "       \n",
    "    Returns\n",
    "    -------\n",
    "    x1, x2 : float or complex\n",
    "       Roots.\n",
    "    \"\"\"\n",
    "    b= float(b)\n",
    "    c= float(c)\n",
    " # definition of companion matrix A of the quadratic equation  \n",
    "    A = np.array([[0,-c],\n",
    "                  [1,-b]])\n",
    "    \n",
    "# roots of the quadratic equation are the eigen values of matrix A\n",
    "    from numpy.linalg import eigvals\n",
    "    e = eigvals(A)\n",
    "    \n",
    "# In order to avoid numerical error when b is extremely greater than c \n",
    "    if any(v == 0. for v in e) and c != 0.:\n",
    "        eps = c/b\n",
    "        e[np.nonzero(e)] += eps\n",
    "        e[np.argwhere(e == 0)] = -eps\n",
    "\n",
    "    return e\n",
    "solve_quad(10000000,1)"
   ]
  },
  {
   "cell_type": "markdown",
   "metadata": {},
   "source": [
    "# Experimenting if Newton's Method could be used"
   ]
  },
  {
   "cell_type": "code",
   "execution_count": null,
   "metadata": {
    "collapsed": true
   },
   "outputs": [],
   "source": [
    "# import numpy as np\n",
    "\n",
    "\n",
    "def solve_quad(b, c):\n",
    "    \"\"\"Solve a quadratic equation, x**2 + bx + c = 0.\n",
    "    \n",
    "    Parameters\n",
    "    ----------\n",
    "    b, c : float\n",
    "       Coefficients\n",
    "       \n",
    "    Returns\n",
    "    -------\n",
    "    x1, x2 : float or complex\n",
    "       Roots.\n",
    "    \"\"\"\n",
    "    b= float(b)\n",
    "    c= float(c)\n",
    "    # defining the given function \n",
    "    def f(x):\n",
    "        return x**2 + b*x + c\n",
    "    \n",
    "# first derivative of the given function \n",
    "    def f1(x):\n",
    "        return 2 * x + b\n",
    "    \n",
    "   # definition of companion matrix A of the quadratic equation  \n",
    "    A = np.array([[0,-c],\n",
    "                  [1,-b]])\n",
    "    \n",
    "    # roots of the quadratic equation are the eigen values of matrix A\n",
    "    from numpy.linalg import eigvals\n",
    "    e = eigvals(A)\n",
    "    \n",
    "    #When b is extremely larger than c,there are numerical errors with the eigen values\n",
    "    #so the idea is to use Newton's function to polish the roots we got using the companion matrix method \n",
    "    #so we are taking the roots from the eigenvalues of A as the first approximations of our true roots\n",
    "    #for the iteration process\n",
    "    \n",
    "    n_iter=0\n",
    "    x_curr= e\n",
    "    eps= 1e-5\n",
    "    for v in e:  \n",
    "        while n_iter < 20:\n",
    "            \n",
    "            x_next = e - f(e)/ f1(e)\n",
    "        \n",
    "            if (abs(x_curr - x_next) < eps):\n",
    "                \n",
    "                break\n",
    "        \n",
    "            x_curr = x_next\n",
    "    return x_curr\n",
    "solve_quad(10000000,1)"
   ]
  },
  {
   "cell_type": "markdown",
   "metadata": {},
   "source": [
    "Test the function"
   ]
  },
  {
   "cell_type": "code",
   "execution_count": 5,
   "metadata": {
    "collapsed": true
   },
   "outputs": [],
   "source": [
    "from numpy import allclose"
   ]
  },
  {
   "cell_type": "code",
   "execution_count": 9,
   "metadata": {
    "collapsed": true
   },
   "outputs": [],
   "source": [
    "variants = [{'b': 4.0, 'c': 3.0},\n",
    "            {'b': 2.0, 'c': 1.0},\n",
    "            {'b': 0.5, 'c': 4.0},\n",
    "            {'b': 1e10, 'c': 3.0},\n",
    "            {'b': -1e10, 'c': 4.0},]"
   ]
  },
  {
   "cell_type": "code",
   "execution_count": 10,
   "metadata": {},
   "outputs": [
    {
     "name": "stdout",
     "output_type": "stream",
     "text": [
      "True\n",
      "True\n",
      "True\n",
      "True\n",
      "True\n"
     ]
    }
   ],
   "source": [
    "for var in variants:\n",
    "    x1, x2 = solve_quad(**var)\n",
    "    print(allclose(x1*x2, var['c']))"
   ]
  },
  {
   "cell_type": "code",
   "execution_count": null,
   "metadata": {
    "collapsed": true
   },
   "outputs": [],
   "source": []
  },
  {
   "cell_type": "code",
   "execution_count": null,
   "metadata": {
    "collapsed": true
   },
   "outputs": [],
   "source": []
  }
 ],
 "metadata": {
  "kernelspec": {
   "display_name": "Python 3",
   "language": "python",
   "name": "python3"
  },
  "language_info": {
   "codemirror_mode": {
    "name": "ipython",
    "version": 3
   },
   "file_extension": ".py",
   "mimetype": "text/x-python",
   "name": "python",
   "nbconvert_exporter": "python",
   "pygments_lexer": "ipython3",
   "version": "3.6.3"
  }
 },
 "nbformat": 4,
 "nbformat_minor": 2
}
