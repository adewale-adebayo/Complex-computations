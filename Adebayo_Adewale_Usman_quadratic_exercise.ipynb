{
 "cells": [
  {
   "cell_type": "markdown",
   "metadata": {},
   "source": [
    "## Solve a quadratic equation, $x^2 + b x + c = 0$."
   ]
  },
  {
   "cell_type": "code",
   "execution_count": 51,
   "metadata": {},
   "outputs": [
    {
     "data": {
      "text/plain": [
       "array([ 0.+1.j, -0.-1.j])"
      ]
     },
     "execution_count": 51,
     "metadata": {},
     "output_type": "execute_result"
    }
   ],
   "source": [
    "def solve_quad(b, c):\n",
    "    \"\"\"Solve a quadratic equation, x**2 + bx + c = 0.\n",
    "    \n",
    "    Parameters\n",
    "    ----------\n",
    "    b, c : float\n",
    "       Coefficients\n",
    "       \n",
    "    Returns\n",
    "    -------\n",
    "    x1, x2 : float or complex\n",
    "       Roots.\n",
    "    \"\"\"\n",
    "    b= float(b)\n",
    "    c= float(c)\n",
    "    import numpy as np\n",
    "   # definition of companion matrix A of the quadratic equation  \n",
    "    A = np.array([[0,-c],\n",
    "                  [1,-b]])\n",
    "    \n",
    "    # roots of the quadratic equation are the eigen values of matrix A\n",
    "    from numpy.linalg import eig\n",
    "    e, v = eig(A)\n",
    "    return e\n",
    "solve_quad(0,1)"
   ]
  },
  {
   "cell_type": "markdown",
   "metadata": {},
   "source": [
    "Test the function"
   ]
  },
  {
   "cell_type": "code",
   "execution_count": 52,
   "metadata": {
    "collapsed": true
   },
   "outputs": [],
   "source": [
    "from numpy import allclose"
   ]
  },
  {
   "cell_type": "code",
   "execution_count": 53,
   "metadata": {
    "collapsed": true
   },
   "outputs": [],
   "source": [
    "variants = [{'b': 4.0, 'c': 3.0},\n",
    "            {'b': 2.0, 'c': 1.0},\n",
    "            {'b': 0.5, 'c': 4.0},\n",
    "            {'b': 1e10, 'c': 3.0},\n",
    "            {'b': -1e10, 'c': 4.0},]"
   ]
  },
  {
   "cell_type": "code",
   "execution_count": 54,
   "metadata": {},
   "outputs": [
    {
     "name": "stdout",
     "output_type": "stream",
     "text": [
      "True\n",
      "True\n",
      "True\n",
      "False\n",
      "False\n"
     ]
    }
   ],
   "source": [
    "for var in variants:\n",
    "    x1, x2 = solve_quad(**var)\n",
    "    print(allclose(x1*x2, var['c']))"
   ]
  },
  {
   "cell_type": "code",
   "execution_count": null,
   "metadata": {
    "collapsed": true
   },
   "outputs": [],
   "source": []
  }
 ],
 "metadata": {
  "kernelspec": {
   "display_name": "Python 3",
   "language": "python",
   "name": "python3"
  },
  "language_info": {
   "codemirror_mode": {
    "name": "ipython",
    "version": 3
   },
   "file_extension": ".py",
   "mimetype": "text/x-python",
   "name": "python",
   "nbconvert_exporter": "python",
   "pygments_lexer": "ipython3",
   "version": "3.6.3"
  }
 },
 "nbformat": 4,
 "nbformat_minor": 2
}
