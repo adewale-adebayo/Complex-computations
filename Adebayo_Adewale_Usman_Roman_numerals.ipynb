{
 "cells": [
  {
   "cell_type": "markdown",
   "metadata": {},
   "source": [
    "# Roman numerals"
   ]
  },
  {
   "cell_type": "markdown",
   "metadata": {},
   "source": [
    "## I. Roman numerals to decimals\n",
    "\n",
    "Write a function which receives a Roman numeral written out as a string, and returns an integer representing the decimal form of the input number. "
   ]
  },
  {
   "cell_type": "code",
   "execution_count": 1,
   "metadata": {
    "collapsed": true
   },
   "outputs": [],
   "source": [
    "mapping = {\"I\" : 1, \n",
    "           \"V\" : 5,\n",
    "           \"X\" : 10,\n",
    "           \"L\" : 50,\n",
    "           \"C\" : 100,\n",
    "           \"D\" : 500,\n",
    "           \"M\" : 1000}\n",
    "\n"
   ]
  },
  {
   "cell_type": "code",
   "execution_count": 2,
   "metadata": {
    "collapsed": true
   },
   "outputs": [],
   "source": [
    "def roman_to_decimal(rom):\n",
    "    \"\"\"Convert a Roman numeral to decimal.\n",
    "    \n",
    "    Parameters\n",
    "    ----------\n",
    "    rom : str\n",
    "        A Roman numeral representing a positive integer.\n",
    "        \n",
    "    Returns\n",
    "    -------\n",
    "    dec : int\n",
    "        The result of conversion of `rom` into a decimal system.\n",
    "    \"\"\"\n",
    "    for i in mapping:\n",
    "        rom_num = mapping\n",
    "       \n",
    "    dec=0\n",
    "    \n",
    "    for i in range(len(rom)):\n",
    "        \n",
    "        # Check if previous numeral is smaller than the current one\n",
    "        \n",
    "        if i > 0 and rom_num[rom[i]] > rom_num[rom[i-1]]:\n",
    "            \n",
    "            dec += rom_num[rom[i]] - 2 * rom_num[rom[i-1]] \n",
    "            \n",
    "        else:\n",
    "            dec += rom_num[rom[i]]\n",
    "            \n",
    "    return dec\n"
   ]
  },
  {
   "cell_type": "markdown",
   "metadata": {},
   "source": [
    "Here are some tests for you to test your code. Your code must pass all of them. You also need to come up with several more tests (your choice)."
   ]
  },
  {
   "cell_type": "code",
   "execution_count": 3,
   "metadata": {},
   "outputs": [
    {
     "name": "stdout",
     "output_type": "stream",
     "text": [
      "True\n",
      "True\n",
      "True\n",
      "True\n",
      "True\n",
      "True\n",
      "True\n",
      "True\n",
      "True\n",
      "True\n",
      "True\n"
     ]
    }
   ],
   "source": [
    "test_pairs = [(\"IX\", 9), (\"XI\", 11), (\"MCCII\", 1202), (\"MMXVIII\", 2018), (\"XLIX\", 49),(\"MMMCMLXXXVI\",3986),(\"MCMX\", 1910),\n",
    "              (\"MMXVIII\",2018),(\"MDXLVI\",1546),(\"CMXCIX\", 999),(\"MMCCCXLIX\",2349)]\n",
    "\n",
    "for rom, dec in test_pairs:\n",
    "    converted = roman_to_decimal(rom)\n",
    "    print(converted == dec)"
   ]
  },
  {
   "cell_type": "markdown",
   "metadata": {},
   "source": [
    "## II. Decimal numbers to roman numerals.\n",
    "\n",
    "The maximum grade for first task (Roman to decimal) is 7 on the 10-point HSE scale. For extra credit, complete the second task: *given a decimal number, convert it to the Roman form*."
   ]
  },
  {
   "cell_type": "code",
   "execution_count": 191,
   "metadata": {},
   "outputs": [],
   "source": [
    "def decimal_to_roman(dec):\n",
    "    \"\"\"Convert a decimal to the Roman form.\n",
    "    \n",
    "    Parameters\n",
    "    ----------\n",
    "    dec : int\n",
    "        A positive integer number\n",
    "    \n",
    "    Returns\n",
    "    -------\n",
    "    rom : str\n",
    "        A string representation of a Roman numeral form of `dec`.\n",
    "    \"\"\" \n",
    "    #definition of lists containing the standard symbols of roman numerals and their equivalent decimals\n",
    "    \n",
    "    #ints= {1000: 'M', 500:'D' , 100: 'C' , 50:'L', 5:'V', 1:'I'}\n",
    "    \n",
    "    ints = [1000, 500, 100, 50, 10, 5,1]\n",
    "    rom_sym = [\"M\", \"D\", \"C\", \"L\", \"X\",\"V\",\"I\"]\n",
    "    # i=        0    1    2    3    4   5   6\n",
    "    #-i=.      -7   -6   -5   -4   -3  -2  -1\n",
    "    rom = \"\"\n",
    "    # rom_sym[-1] is the element of rom_sym from the end (i.e 'I')\n",
    "    # Checks if number is in the list above\n",
    "    while dec > 0:\n",
    "        # Checks all numbers ending in 9\n",
    "        if dec +1 == ints[i]:\n",
    "            # checks numbers between 1 and 10\n",
    "            if dec < 10 :\n",
    "                rom += rom_sym[-1] + rom_sym[i]\n",
    "                dec -= ints[i] - ints[-1]\n",
    "            # checks numbers between 10 and 100    \n",
    "            elif dec >=10 and dec<100:\n",
    "                rom += rom_sym[-3] + rom_sym[i]\n",
    "                dec -= ints[i] - ints[-3]\n",
    "\n",
    "# Checks numbers between 100 and 1000\n",
    "            elif dec >= 100 and dec< 1000:\n",
    "                rom += rom_sym[-5] + rom_sym[i]\n",
    "                dec -= ints[i] - ints[-5] \n",
    "                \n",
    "          # Checks numbers between 40 and 50      \n",
    "        elif dec >= 40 and dec< 50:\n",
    "            #Checks if the iteration is at ints[3]( i.e 50)\n",
    "            if i ==3:\n",
    "                rom += rom_sym[-3] + rom_sym[i]\n",
    "                dec -= ints[i] - ints[-3]\n",
    "                \n",
    "             # checks numbers between 90 and 100   \n",
    "        elif dec >= 90 and dec< 100:\n",
    "            #checks if the iteration is at ints[2](i.e 100)\n",
    "            if i ==2:\n",
    "                rom += rom_sym[-3] + rom_sym[i]\n",
    "                dec -= ints[i] - ints[-3]\n",
    "            \n",
    "            # checks numbers between 900 and 1000\n",
    "        elif dec >= 900 and dec< 1000:\n",
    "            # checks if the iteration is ints[1](i.e 500)\n",
    "            if i ==1:\n",
    "                rom += rom_sym[-5] + rom_sym[i-1]\n",
    "                dec -= ints[i-1] - ints[-5]\n",
    "                \n",
    "            # checks if the iteration is ints[0](i.e 1000)\n",
    "\n",
    "            else:\n",
    "                rom += rom_sym[-5] + rom_sym[i]\n",
    "                dec -= ints[i] - ints[-5]\n",
    "                \n",
    "         # checks all other cases\n",
    "        \n",
    "        else:\n",
    "            for r in range(dec // ints[i]):\n",
    "                rom += rom_sym[i]\n",
    "                dec -= ints[i]\n",
    "                \n",
    "        # Goes to the next roman numeral        \n",
    "        i += 1\n",
    "    # ...\n",
    "    return rom\n",
    "\n"
   ]
  },
  {
   "cell_type": "markdown",
   "metadata": {},
   "source": [
    "You need to come up with test cases to show that your conversion works as expected. \n",
    "NB: the conversion is ambiguous in some cases. Any valid conversion is accepted. "
   ]
  },
  {
   "cell_type": "code",
   "execution_count": 192,
   "metadata": {},
   "outputs": [
    {
     "name": "stdout",
     "output_type": "stream",
     "text": [
      "True\n",
      "True\n",
      "True\n",
      "True\n",
      "True\n",
      "True\n",
      "True\n",
      "True\n",
      "True\n",
      "True\n",
      "True\n"
     ]
    }
   ],
   "source": [
    "test_pairs = [(1, \"I\"), (11, \"XI\"), (1202, \"MCCII\"), (2018, \"MMXVIII\"), (49, \"XLIX\"),(3986, \"MMMCMLXXXVI\"),(1910, \"MCMX\"),\n",
    "              (2018, \"MMXVIII\"),(1546, \"MDXLVI\"),(999, \"CMXCIX\"),(2349, \"MMCCCXLIX\")]\n",
    "\n",
    "for dec, rom in test_pairs:\n",
    "    converted = decimal_to_roman(dec)\n",
    "    print(converted == rom)"
   ]
  },
  {
   "cell_type": "code",
   "execution_count": 193,
   "metadata": {},
   "outputs": [
    {
     "data": {
      "text/plain": [
       "'XLIX'"
      ]
     },
     "execution_count": 193,
     "metadata": {},
     "output_type": "execute_result"
    }
   ],
   "source": [
    "decimal_to_roman(49)"
   ]
  },
  {
   "cell_type": "code",
   "execution_count": 194,
   "metadata": {},
   "outputs": [
    {
     "data": {
      "text/plain": [
       "'IX'"
      ]
     },
     "execution_count": 194,
     "metadata": {},
     "output_type": "execute_result"
    }
   ],
   "source": [
    "decimal_to_roman(9)"
   ]
  },
  {
   "cell_type": "code",
   "execution_count": 195,
   "metadata": {},
   "outputs": [
    {
     "data": {
      "text/plain": [
       "'MDXLVI'"
      ]
     },
     "execution_count": 195,
     "metadata": {},
     "output_type": "execute_result"
    }
   ],
   "source": [
    "decimal_to_roman(1546)"
   ]
  },
  {
   "cell_type": "code",
   "execution_count": 196,
   "metadata": {},
   "outputs": [
    {
     "data": {
      "text/plain": [
       "'MCMX'"
      ]
     },
     "execution_count": 196,
     "metadata": {},
     "output_type": "execute_result"
    }
   ],
   "source": [
    "decimal_to_roman(1910)"
   ]
  },
  {
   "cell_type": "code",
   "execution_count": 197,
   "metadata": {},
   "outputs": [
    {
     "data": {
      "text/plain": [
       "'MMMCMLXXXVI'"
      ]
     },
     "execution_count": 197,
     "metadata": {},
     "output_type": "execute_result"
    }
   ],
   "source": [
    "decimal_to_roman(3986)"
   ]
  },
  {
   "cell_type": "code",
   "execution_count": 198,
   "metadata": {},
   "outputs": [
    {
     "data": {
      "text/plain": [
       "'XLVII'"
      ]
     },
     "execution_count": 198,
     "metadata": {},
     "output_type": "execute_result"
    }
   ],
   "source": [
    "decimal_to_roman(47)"
   ]
  },
  {
   "cell_type": "code",
   "execution_count": 199,
   "metadata": {},
   "outputs": [
    {
     "data": {
      "text/plain": [
       "'MCMIX'"
      ]
     },
     "execution_count": 199,
     "metadata": {},
     "output_type": "execute_result"
    }
   ],
   "source": [
    "decimal_to_roman(1909)"
   ]
  },
  {
   "cell_type": "code",
   "execution_count": null,
   "metadata": {
    "collapsed": true
   },
   "outputs": [],
   "source": []
  },
  {
   "cell_type": "code",
   "execution_count": null,
   "metadata": {
    "collapsed": true
   },
   "outputs": [],
   "source": []
  },
  {
   "cell_type": "code",
   "execution_count": null,
   "metadata": {
    "collapsed": true
   },
   "outputs": [],
   "source": []
  }
 ],
 "metadata": {
  "kernelspec": {
   "display_name": "Python 3",
   "language": "python",
   "name": "python3"
  },
  "language_info": {
   "codemirror_mode": {
    "name": "ipython",
    "version": 3
   },
   "file_extension": ".py",
   "mimetype": "text/x-python",
   "name": "python",
   "nbconvert_exporter": "python",
   "pygments_lexer": "ipython3",
   "version": "3.6.3"
  }
 },
 "nbformat": 4,
 "nbformat_minor": 2
}
