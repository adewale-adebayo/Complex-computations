{
 "cells": [
  {
   "cell_type": "markdown",
   "metadata": {},
   "source": [
    "#### Разработать программу реализующую интегрирование заданной функции методом средних прямоугольников (или иным методом, на выбор) с адаптивной сеткой. Сравнить скорость сходимости данного метода и метода с равномерной сеткой. Указание: для выбора \"наибольшего\" интервала используйте модуль heapq из стандартной библиотеки. (При использовании языка C++, используйте std::set)"
   ]
  },
  {
   "cell_type": "code",
   "execution_count": 1,
   "metadata": {
    "collapsed": true
   },
   "outputs": [],
   "source": [
    "import numpy as np\n",
    "import heapq\n",
    "import matplotlib.pyplot as plt "
   ]
  },
  {
   "cell_type": "code",
   "execution_count": 2,
   "metadata": {
    "collapsed": true
   },
   "outputs": [],
   "source": [
    "# The correct value of integral\n",
    "\n",
    "exact = -np.exp(-20) + 1\n",
    "\n"
   ]
  },
  {
   "cell_type": "markdown",
   "metadata": {},
   "source": [
    "#### Вариант из Лекции "
   ]
  },
  {
   "cell_type": "code",
   "execution_count": 3,
   "metadata": {
    "collapsed": true
   },
   "outputs": [],
   "source": [
    "# A rectangle is (start, width)\n",
    "# A list element is (-weight, (start, width))\n",
    "\n",
    "def make_rect(a, b, f):\n",
    "    \"\"\"Make a rectangle for the interval [a, b]\"\"\"\n",
    "    rect = (a, b-a)\n",
    "    xm = a + rect[1] / 2.\n",
    "    return (-f(xm) * rect[1], rect)\n",
    "    \n",
    "\n",
    "def get_max_elem(lst, key=None):\n",
    "    \"\"\"Find and remove the maximum element from the list.\n",
    "    \n",
    "    Find the max element (according to the parameter `key`, which is a callable),\n",
    "    remove it from the list, and return both the element and the rest.\n",
    "    \"\"\"\n",
    "    if key is None:\n",
    "        # use the identity function\n",
    "        key = lambda x: x\n",
    "    \n",
    "    # find the max element\n",
    "    elem = max(lst, key=key)\n",
    "    \n",
    "    # find its position in the list\n",
    "    idx = lst.index(elem)\n",
    "    \n",
    "    return elem, lst[:idx] + lst[idx+1:]\n",
    "\n",
    "    \n",
    "def adapt_rect_list(f, a, b, npts):\n",
    "    \"\"\"Integrate f(x) from a to b using npts steps of the adaptive algorithm.\n",
    "    \"\"\"\n",
    "    lst = []\n",
    "\n",
    "    # start from a single rectangle\n",
    "    item = make_rect(a, b, f)\n",
    "    lst.append(item)\n",
    "    \n",
    "    # loop\n",
    "    for _ in range(npts):\n",
    "        # get the largest one\n",
    "        rect, lst = get_max_elem(lst, lambda x: -x[0])\n",
    "        w, (start, width) = rect\n",
    "                \n",
    "        # and split it into two halves\n",
    "        c = start + width / 2.\n",
    "        \n",
    "        rect1 = make_rect(start, c, f)\n",
    "        rect2 = make_rect(c, start + width, f)\n",
    "        \n",
    "        lst.append(rect1)\n",
    "        lst.append(rect2)\n",
    "        \n",
    "    # collect the answer\n",
    "    return -sum(w for w, r in lst), lst"
   ]
  },
  {
   "cell_type": "code",
   "execution_count": 4,
   "metadata": {},
   "outputs": [
    {
     "name": "stdout",
     "output_type": "stream",
     "text": [
      "n, res =  5 0.9552698388347781\n",
      "n, res =  25 0.9786718962428081\n",
      "n, res =  125 0.9956502001607699\n",
      "n, res =  250 0.9959491604791242\n",
      "n, res =  500 0.9960027891786778\n",
      "n, res =  1000 0.9997391610745809\n",
      "n, res =  5000 0.999940521244624\n"
     ]
    }
   ],
   "source": [
    "def f(x):\n",
    "    return np.exp(-x)\n",
    "a, b = 0, 20\n",
    "\n",
    "for n in (5, 25, 125, 250, 500, 1000, 5000):\n",
    "    res, lst = adapt_rect_list(f, a, b, n)\n",
    "    print ('n, res = ', n, res)\n"
   ]
  },
  {
   "cell_type": "code",
   "execution_count": 5,
   "metadata": {},
   "outputs": [
    {
     "name": "stdout",
     "output_type": "stream",
     "text": [
      "116 ms ± 1.23 ms per loop (mean ± std. dev. of 7 runs, 10 loops each)\n"
     ]
    }
   ],
   "source": [
    "%timeit adapt_rect_list(f, a, b, npts=1000)"
   ]
  },
  {
   "cell_type": "markdown",
   "metadata": {},
   "source": [
    "  #### Первое исполнение с Heapq"
   ]
  },
  {
   "cell_type": "code",
   "execution_count": 6,
   "metadata": {
    "collapsed": true
   },
   "outputs": [],
   "source": [
    "def make_rect(a, b, f):\n",
    "    \"\"\"Make a rectangle for the interval [a, b]\"\"\"\n",
    "    rect = (a, b-a)\n",
    "    xm = a + rect[1] / 2.\n",
    "    return (-f(xm) * rect[1], rect)\n",
    "    \n",
    "\n",
    "def get_max_elem(lst, key=None):\n",
    "    \"\"\"Find and remove the maximum element from the list.\n",
    "    \n",
    "    Find the max element (according to the parameter `key`, which is a callable),\n",
    "    remove it from the list, and return both the element and the rest.\n",
    "    \"\"\"\n",
    "    if key is None:\n",
    "        # use the identity function\n",
    "        key = lambda x: x\n",
    "    \n",
    "    # sort list from maximum to minimum \n",
    "    heapq._heapify_max(lst) \n",
    "    \n",
    "    #find the max elemen\n",
    "    elem = lst[-1]\n",
    "    \n",
    "    \n",
    "    return elem, lst[:-1]\n",
    "\n",
    "    \n",
    "def adapt_rect_list1(f, a, b, npts):\n",
    "    \"\"\"Integrate f(x) from a to b using npts steps of the adaptive algorithm.\n",
    "    \"\"\"\n",
    "    lst = []\n",
    "\n",
    "    # start from a single rectangle\n",
    "    item = make_rect(a, b, f)\n",
    "    lst.append(item)\n",
    "    \n",
    "    # loop\n",
    "    for _ in range(npts):\n",
    "        # get the largest one\n",
    "        rect, lst = get_max_elem(lst, lambda x: -x[0])\n",
    "        w, (start, width) = rect\n",
    "                \n",
    "        # and split it into two halves\n",
    "        c = start + width / 2.\n",
    "        \n",
    "        rect1 = make_rect(start, c, f)\n",
    "        rect2 = make_rect(c, start + width, f)\n",
    "        \n",
    "#         heapq.heappush(lst,rect1)\n",
    "#         heapq.heappush(lst,rect2)\n",
    "\n",
    "\n",
    "        lst.append(rect1)\n",
    "        lst.append(rect2)\n",
    "        \n",
    "    # collect the answer\n",
    "    return -sum(w for w, r in lst), lst"
   ]
  },
  {
   "cell_type": "code",
   "execution_count": 7,
   "metadata": {},
   "outputs": [
    {
     "name": "stdout",
     "output_type": "stream",
     "text": [
      "n, res =  5 0.7921436846593407\n",
      "n, res =  25 0.9903744105507674\n",
      "n, res =  125 0.9995254841578629\n",
      "n, res =  250 0.9997636401049373\n",
      "n, res =  500 0.9998166847139779\n",
      "n, res =  1000 0.9998277637078664\n",
      "n, res =  5000 0.9998400734567691\n"
     ]
    }
   ],
   "source": [
    "def f(x):\n",
    "    return np.exp(-x)\n",
    "a, b = 0, 20\n",
    "\n",
    "for n in (5, 25, 125, 250, 500, 1000, 5000):\n",
    "    res, lst = adapt_rect_list1(f, a, b, n)\n",
    "    print ('n, res = ', n, res)\n"
   ]
  },
  {
   "cell_type": "code",
   "execution_count": 8,
   "metadata": {},
   "outputs": [
    {
     "name": "stdout",
     "output_type": "stream",
     "text": [
      "89.1 ms ± 3.97 ms per loop (mean ± std. dev. of 7 runs, 10 loops each)\n"
     ]
    }
   ],
   "source": [
    "%timeit adapt_rect_list1(f, a, b, npts=1000)"
   ]
  },
  {
   "cell_type": "markdown",
   "metadata": {},
   "source": [
    "#### Второе исполнение с Heapq"
   ]
  },
  {
   "cell_type": "code",
   "execution_count": 9,
   "metadata": {
    "collapsed": true
   },
   "outputs": [],
   "source": [
    "def make_rect(a, b, f):\n",
    "    \"\"\"Make a rectangle for the interval [a, b]\"\"\"\n",
    "    rect = (a, b-a)\n",
    "    xm = a + rect[1] / 2.\n",
    "    return (-f(xm) * rect[1], rect)\n",
    "    \n",
    "\n",
    "def get_max_elem(lst, key=None):\n",
    "    \"\"\"Find and remove the maximum element from the list.\n",
    "    \n",
    "    Find the max element (according to the parameter `key`, which is a callable),\n",
    "    remove it from the list, and return both the element and the rest.\n",
    "    \"\"\"\n",
    "    if key is None:\n",
    "        # use the identity function\n",
    "        key = lambda x: x\n",
    "    \n",
    "    # convert and sort list from maximum to minimum t\n",
    "#     heapq._heapify_max(lst) \n",
    "    \n",
    "    #find the max elemen\n",
    "    elem = lst[0]\n",
    "#     print (elem)\n",
    "    \n",
    "    \n",
    "    return elem, lst[1:]\n",
    "\n",
    "    \n",
    "def adapt_rect_list2(f, a, b, npts):\n",
    "    \"\"\"Integrate f(x) from a to b using npts steps of the adaptive algorithm.\n",
    "    \"\"\"\n",
    "    lst = []\n",
    "\n",
    "    # start from a single rectangle\n",
    "    item = make_rect(a, b, f)\n",
    "    lst.append(item)\n",
    "    \n",
    "    # loop\n",
    "    for _ in range(npts):\n",
    "        # get the largest one\n",
    "        rect, lst = get_max_elem(lst, lambda x: -x[0])\n",
    "        w, (start, width) = rect\n",
    "                \n",
    "        # and split it into two halves\n",
    "        c = start + width / 2.\n",
    "        \n",
    "        rect1 = make_rect(start, c, f)\n",
    "        rect2 = make_rect(c, start + width, f)\n",
    "        \n",
    "        heapq.heappush(lst,rect1)\n",
    "        heapq.heappush(lst,rect2)\n",
    "\n",
    "\n",
    "#         lst.append(rect1)\n",
    "#         lst.append(rect2)\n",
    "        \n",
    "    # collect the answer\n",
    "    return -sum(w for w, r in lst), lst\n",
    "\n"
   ]
  },
  {
   "cell_type": "code",
   "execution_count": 10,
   "metadata": {},
   "outputs": [
    {
     "name": "stdout",
     "output_type": "stream",
     "text": [
      "n, res =  5 0.955269838834778\n",
      "n, res =  25 0.9905206226466489\n",
      "n, res =  125 0.9957457022945836\n",
      "n, res =  250 0.995957555740803\n",
      "n, res =  500 0.9996641396382363\n",
      "n, res =  1000 0.9998050266623021\n",
      "n, res =  5000 0.9999410752548096\n"
     ]
    }
   ],
   "source": [
    "def f(x):\n",
    "    return np.exp(-x)\n",
    "a, b = 0, 20\n",
    "\n",
    "for n in (5, 25, 125, 250, 500, 1000, 5000):\n",
    "    res, lst = adapt_rect_list2(f, a, b, n)\n",
    "    print ('n, res = ', n, res)\n",
    "\n"
   ]
  },
  {
   "cell_type": "code",
   "execution_count": 11,
   "metadata": {},
   "outputs": [
    {
     "name": "stdout",
     "output_type": "stream",
     "text": [
      "8.92 ms ± 523 µs per loop (mean ± std. dev. of 7 runs, 100 loops each)\n"
     ]
    }
   ],
   "source": [
    "%timeit adapt_rect_list2(f, a, b, npts=1000)"
   ]
  },
  {
   "cell_type": "markdown",
   "metadata": {},
   "source": [
    "#### Метод средних прямоугольников"
   ]
  },
  {
   "cell_type": "code",
   "execution_count": 12,
   "metadata": {
    "collapsed": true
   },
   "outputs": [],
   "source": [
    "def crect(f, a, b, npts):\n",
    "    \"\"\"  \"\"\"\n",
    "    h = (b - a) / npts\n",
    "    summ = 0\n",
    "    for j in range(npts):\n",
    "        x = a + h*(j + 0.5)\n",
    "        summ += f(x)\n",
    "    return summ * h"
   ]
  },
  {
   "cell_type": "code",
   "execution_count": 13,
   "metadata": {
    "scrolled": true
   },
   "outputs": [
    {
     "name": "stdout",
     "output_type": "stream",
     "text": [
      "   10 : 0.850918\n",
      "  100 : 0.998335\n",
      " 1000 : 0.999983\n",
      "10000 : 1\n"
     ]
    }
   ],
   "source": [
    "for n in (10, 100, 1000, 10000):\n",
    "    print(\"%5.5g : %g\" % (n, crect(lambda x: np.exp(-x), 0, 20, n)))"
   ]
  },
  {
   "cell_type": "code",
   "execution_count": 14,
   "metadata": {
    "scrolled": false
   },
   "outputs": [
    {
     "name": "stdout",
     "output_type": "stream",
     "text": [
      "1.53 ms ± 76.3 µs per loop (mean ± std. dev. of 7 runs, 1000 loops each)\n"
     ]
    }
   ],
   "source": [
    "%timeit crect(f, a, b, npts=1000)"
   ]
  },
  {
   "cell_type": "markdown",
   "metadata": {},
   "source": [
    "#### Оценки скоростей сходимости методов"
   ]
  },
  {
   "cell_type": "code",
   "execution_count": 22,
   "metadata": {
    "collapsed": true
   },
   "outputs": [],
   "source": [
    "def exact(a,b):\n",
    "    return - np.exp(-b)+(np.exp(-a))"
   ]
  },
  {
   "cell_type": "code",
   "execution_count": 23,
   "metadata": {},
   "outputs": [
    {
     "data": {
      "image/png": "[encoded data removed]",
      "text/plain": [
       "<Figure size 432x288 with 1 Axes>"
      ]
     },
     "metadata": {},
     "output_type": "display_data"
    }
   ],
   "source": [
    "res= []\n",
    "res1= []\n",
    "res2=[]\n",
    "res3=[]\n",
    "\n",
    "npts=[5, 10, 15, 20, 25, 30, 35,40,45,50,55,60,70,80,90,100]\n",
    "\n",
    "for n in npts:\n",
    "    \n",
    "    res.append(abs(adapt_rect_list(f, a, b, n)[0]- exact(a,b)))\n",
    "    \n",
    "    res1.append(abs(adapt_rect_list1(f, a, b, n)[0]- exact(a,b)))\n",
    "    \n",
    "    res2.append(abs(adapt_rect_list2(f, a, b, n)[0]- exact(a,b)))\n",
    "    \n",
    "    res3.append(abs(crect(f, a, b, n)- exact(a,b)))\n",
    "\n",
    "plt.figure()\n",
    "plt.plot(npts,res,label = 'adaptive_lecture')\n",
    "plt.plot(npts,res1,label = 'modified_adaptive1')\n",
    "plt.plot(npts,res2,label = 'modified_adaptive2')\n",
    "plt.plot(npts,res3,label = 'Central_rectangular')\n",
    "plt.ylabel('Error')\n",
    "plt.xlabel('n')\n",
    "plt.legend()\n",
    "plt.plot()\n",
    "plt.show()\n",
    "\n",
    "\n"
   ]
  },
  {
   "cell_type": "code",
   "execution_count": null,
   "metadata": {
    "collapsed": true
   },
   "outputs": [],
   "source": []
  },
  {
   "cell_type": "code",
   "execution_count": null,
   "metadata": {
    "collapsed": true
   },
   "outputs": [],
   "source": []
  },
  {
   "cell_type": "code",
   "execution_count": null,
   "metadata": {
    "collapsed": true
   },
   "outputs": [],
   "source": []
  }
 ],
 "metadata": {
  "kernelspec": {
   "display_name": "Python 3",
   "language": "python",
   "name": "python3"
  },
  "language_info": {
   "codemirror_mode": {
    "name": "ipython",
    "version": 3
   },
   "file_extension": ".py",
   "mimetype": "text/x-python",
   "name": "python",
   "nbconvert_exporter": "python",
   "pygments_lexer": "ipython3",
   "version": "3.6.3"
  }
 },
 "nbformat": 4,
 "nbformat_minor": 2
}
